{
 "cells": [
  {
   "cell_type": "markdown",
   "metadata": {},
   "source": [
    "This notebook copies and modifies [code written by Matteo Mancini](https://github.com/matteomancini/neurosnippets), which at the time of this writing was released under the [MIT license](https://github.com/matteomancini/neurosnippets/blob/master/LICENSE.md).  It was modified to use a [networkx](https://networkx.org/documentation/stable/index.html) Graph object as input for the network being visualized."
   ]
  },
  {
   "cell_type": "code",
   "execution_count": null,
   "metadata": {},
   "outputs": [],
   "source": [
    "# Run this cell in Google Colab to retrieve the data\n",
    "!wget https://github.com/matteomancini/neurosnippets/raw/master/brainviz/interactive-network/lh.pial.obj\n",
    "!wget https://github.com/matteomancini/neurosnippets/raw/master/brainviz/interactive-network/icbm_fiber_mat.txt\n",
    "!wget https://github.com/matteomancini/neurosnippets/raw/master/brainviz/interactive-network/fs_region_centers_68_sort.txt\n",
    "!wget https://github.com/matteomancini/neurosnippets/raw/master/brainviz/interactive-network/freesurfer_regions_68_sort_full.txt"
   ]
  },
  {
   "cell_type": "code",
   "execution_count": null,
   "metadata": {},
   "outputs": [],
   "source": [
    "import numpy as np\n",
    "import plotly.graph_objects as go\n",
    "import networkx as nx # New dependency"
   ]
  },
  {
   "cell_type": "code",
   "execution_count": null,
   "metadata": {},
   "outputs": [],
   "source": [
    "def obj_data_to_mesh3d(odata):\n",
    "    # odata is the string read from an obj file\n",
    "    vertices = []\n",
    "    faces = []\n",
    "    lines = odata.splitlines()   \n",
    "   \n",
    "    for line in lines:\n",
    "        slist = line.split()\n",
    "        if slist:\n",
    "            if slist[0] == 'v':\n",
    "                vertex = np.array(slist[1:], dtype=float)\n",
    "                vertices.append(vertex)\n",
    "            elif slist[0] == 'f':\n",
    "                face = []\n",
    "                for k in range(1, len(slist)):\n",
    "                    face.append([int(s) for s in slist[k].replace('//','/').split('/')])\n",
    "                if len(face) > 3: # triangulate the n-polyonal face, n>3\n",
    "                    faces.extend([[face[0][0]-1, face[k][0]-1, face[k+1][0]-1] for k in range(1, len(face)-1)])\n",
    "                else:    \n",
    "                    faces.append([face[j][0]-1 for j in range(len(face))])\n",
    "            else: pass\n",
    "    \n",
    "    \n",
    "    return np.array(vertices), np.array(faces)   "
   ]
  },
  {
   "cell_type": "code",
   "execution_count": null,
   "metadata": {},
   "outputs": [],
   "source": [
    "with open(\"lh.pial.obj\", \"r\") as f:\n",
    "    obj_data = f.read()\n",
    "[vertices, faces] = obj_data_to_mesh3d(obj_data)\n",
    "\n",
    "vert_x, vert_y, vert_z = vertices[:,:3].T\n",
    "face_i, face_j, face_k = faces.T"
   ]
  },
  {
   "cell_type": "code",
   "execution_count": null,
   "metadata": {},
   "outputs": [],
   "source": [
    "cmat = np.loadtxt('icbm_fiber_mat.txt')\n",
    "nodes = np.loadtxt('fs_region_centers_68_sort.txt')\n",
    "\n",
    "labels=[]\n",
    "with open(\"freesurfer_regions_68_sort_full.txt\", \"r\") as f:\n",
    "    for line in f:\n",
    "        labels.append(line.strip('\\n'))"
   ]
  },
  {
   "cell_type": "code",
   "execution_count": null,
   "metadata": {},
   "outputs": [],
   "source": [
    "# Instantiate Graph and add nodes (with their coordinates)\n",
    "G = nx.Graph()\n",
    "\n",
    "for idx, node in enumerate(nodes):\n",
    "    G.add_node(idx, coord=node)\n",
    "\n",
    "# Add made-up colors for the nodes as node attribute\n",
    "colors_data = {node: ('gray' if node > 10 else 'red') for node in G.nodes}\n",
    "nx.set_node_attributes(G, colors_data, name=\"color\")\n",
    "\n",
    "# Add edges\n",
    "[source, target] = np.nonzero(np.triu(cmat)>0.01)\n",
    "edges = list(zip(source, target))\n",
    "\n",
    "G.add_edges_from(edges)"
   ]
  },
  {
   "cell_type": "code",
   "execution_count": null,
   "metadata": {},
   "outputs": [],
   "source": [
    "# Get node coordinates from node attribute\n",
    "nodes_x = [data['coord'][0] for node, data in G.nodes(data=True)]\n",
    "nodes_y = [data['coord'][1] for node, data in G.nodes(data=True)]\n",
    "nodes_z = [data['coord'][2] for node, data in G.nodes(data=True)]\n",
    "\n",
    "edge_x = []\n",
    "edge_y = []\n",
    "edge_z = []\n",
    "for s, t in edges:\n",
    "    edge_x += [nodes_x[s], nodes_x[t]]\n",
    "    edge_y += [nodes_y[s], nodes_y[t]]\n",
    "    edge_z += [nodes_z[s], nodes_z[t]]\n",
    "\n",
    "# Get node colors from node attribute\n",
    "node_colors = [data['color'] for node, data in G.nodes(data=True)]"
   ]
  },
  {
   "cell_type": "code",
   "execution_count": null,
   "metadata": {},
   "outputs": [],
   "source": [
    "fig = go.Figure()\n",
    "\n",
    "# Changed color and opacity kwargs\n",
    "fig.add_trace(go.Mesh3d(x=vert_x, y=vert_y, z=vert_z, i=face_i, j=face_j, k=face_k,\n",
    "                        color='gray', opacity=0.1, name='', showscale=False, hoverinfo='none'))\n",
    "\n",
    "fig.add_trace(go.Scatter3d(x=nodes_x, y=nodes_y, z=nodes_z, text=labels,\n",
    "                           mode='markers', hoverinfo='text', name='Nodes',\n",
    "                           marker=dict(\n",
    "                                       size=5, # Changed node size...\n",
    "                                       color=node_colors # ...and color\n",
    "                                      )\n",
    "                           ))\n",
    "fig.add_trace(go.Scatter3d(x=edge_x, y=edge_y, z=edge_z,\n",
    "                           mode='lines', hoverinfo='none', name='Edges',\n",
    "                           opacity=0.3, # Added opacity kwarg\n",
    "                           line=dict(color='pink') # Added line color\n",
    "                           ))\n",
    "\n",
    "fig.update_layout(\n",
    "    scene=dict(\n",
    "        xaxis=dict(showticklabels=False, visible=False),\n",
    "        yaxis=dict(showticklabels=False, visible=False),\n",
    "        zaxis=dict(showticklabels=False, visible=False),\n",
    "    ),\n",
    "    width=800, height=600\n",
    ")\n",
    "\n",
    "fig.show()"
   ]
  }
 ],
 "metadata": {
  "interpreter": {
   "hash": "6d57966a6f2b55894458522e627ae9bc522dfa9db1fb3833cae4ca74ae128d9c"
  },
  "kernelspec": {
   "display_name": "Python 3.8.8 64-bit ('analysis_default': conda)",
   "name": "python3"
  },
  "language_info": {
   "codemirror_mode": {
    "name": "ipython",
    "version": 3
   },
   "file_extension": ".py",
   "mimetype": "text/x-python",
   "name": "python",
   "nbconvert_exporter": "python",
   "pygments_lexer": "ipython3",
   "version": "3.8.8"
  },
  "orig_nbformat": 4
 },
 "nbformat": 4,
 "nbformat_minor": 2
}
